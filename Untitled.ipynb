{
 "cells": [
  {
   "cell_type": "code",
   "execution_count": 4,
   "id": "5e4513d8",
   "metadata": {},
   "outputs": [],
   "source": [
    "import pandas as pd ##essential to reading databases\n",
    "import numpy as np ##essential for machine learning\n",
    "import os ##essential for operating system functions\n",
    "from matplotlib import pyplot as plt ##Math and plotting functionality\n",
    "import seaborn as sns ##some of the best visualizations between R and Python\n",
    "%matplotlib inline\n",
    "import calendar\n",
    "import warnings     ##imports \n",
    "warnings.filterwarnings('ignore')"
   ]
  },
  {
   "cell_type": "code",
   "execution_count": null,
   "id": "6e5e3cba-122d-4e6f-a737-b91ff80d6c3f",
   "metadata": {},
   "outputs": [],
   "source": []
  },
  {
   "cell_type": "code",
   "execution_count": 5,
   "id": "b55fc72b",
   "metadata": {},
   "outputs": [
    {
     "data": {
      "text/plain": [
       "'C:\\\\Users\\\\845515\\\\OneDrive - BOOZ ALLEN HAMILTON\\\\Work\\\\Challenges\\\\Water Pump Predictions'"
      ]
     },
     "execution_count": 5,
     "metadata": {},
     "output_type": "execute_result"
    }
   ],
   "source": [
    "os.getcwd() ##whereamI in python speak"
   ]
  },
  {
   "cell_type": "code",
   "execution_count": 6,
   "id": "00686605",
   "metadata": {},
   "outputs": [
    {
     "ename": "FileNotFoundError",
     "evalue": "[Errno 2] No such file or directory: 'TrainingSetLabels.csv'",
     "output_type": "error",
     "traceback": [
      "\u001b[1;31m---------------------------------------------------------------------------\u001b[0m",
      "\u001b[1;31mFileNotFoundError\u001b[0m                         Traceback (most recent call last)",
      "\u001b[1;32m<ipython-input-6-3143177d3d28>\u001b[0m in \u001b[0;36m<module>\u001b[1;34m\u001b[0m\n\u001b[0;32m      1\u001b[0m \u001b[0mwp\u001b[0m \u001b[1;33m=\u001b[0m \u001b[0mpd\u001b[0m\u001b[1;33m.\u001b[0m\u001b[0mread_csv\u001b[0m\u001b[1;33m(\u001b[0m\u001b[1;34m\"TrainingSetValues.csv\"\u001b[0m\u001b[1;33m)\u001b[0m \u001b[1;31m##read in the data set\u001b[0m\u001b[1;33m\u001b[0m\u001b[1;33m\u001b[0m\u001b[0m\n\u001b[1;32m----> 2\u001b[1;33m \u001b[0mps\u001b[0m \u001b[1;33m=\u001b[0m \u001b[0mpd\u001b[0m\u001b[1;33m.\u001b[0m\u001b[0mread_csv\u001b[0m\u001b[1;33m(\u001b[0m\u001b[1;34m\"TrainingSetLabels.csv\"\u001b[0m\u001b[1;33m)\u001b[0m \u001b[1;31m##read in the data set\u001b[0m\u001b[1;33m\u001b[0m\u001b[1;33m\u001b[0m\u001b[0m\n\u001b[0m",
      "\u001b[1;32m~\\Anaconda3\\lib\\site-packages\\pandas\\io\\parsers.py\u001b[0m in \u001b[0;36mread_csv\u001b[1;34m(filepath_or_buffer, sep, delimiter, header, names, index_col, usecols, squeeze, prefix, mangle_dupe_cols, dtype, engine, converters, true_values, false_values, skipinitialspace, skiprows, skipfooter, nrows, na_values, keep_default_na, na_filter, verbose, skip_blank_lines, parse_dates, infer_datetime_format, keep_date_col, date_parser, dayfirst, cache_dates, iterator, chunksize, compression, thousands, decimal, lineterminator, quotechar, quoting, doublequote, escapechar, comment, encoding, dialect, error_bad_lines, warn_bad_lines, delim_whitespace, low_memory, memory_map, float_precision, storage_options)\u001b[0m\n\u001b[0;32m    608\u001b[0m     \u001b[0mkwds\u001b[0m\u001b[1;33m.\u001b[0m\u001b[0mupdate\u001b[0m\u001b[1;33m(\u001b[0m\u001b[0mkwds_defaults\u001b[0m\u001b[1;33m)\u001b[0m\u001b[1;33m\u001b[0m\u001b[1;33m\u001b[0m\u001b[0m\n\u001b[0;32m    609\u001b[0m \u001b[1;33m\u001b[0m\u001b[0m\n\u001b[1;32m--> 610\u001b[1;33m     \u001b[1;32mreturn\u001b[0m \u001b[0m_read\u001b[0m\u001b[1;33m(\u001b[0m\u001b[0mfilepath_or_buffer\u001b[0m\u001b[1;33m,\u001b[0m \u001b[0mkwds\u001b[0m\u001b[1;33m)\u001b[0m\u001b[1;33m\u001b[0m\u001b[1;33m\u001b[0m\u001b[0m\n\u001b[0m\u001b[0;32m    611\u001b[0m \u001b[1;33m\u001b[0m\u001b[0m\n\u001b[0;32m    612\u001b[0m \u001b[1;33m\u001b[0m\u001b[0m\n",
      "\u001b[1;32m~\\Anaconda3\\lib\\site-packages\\pandas\\io\\parsers.py\u001b[0m in \u001b[0;36m_read\u001b[1;34m(filepath_or_buffer, kwds)\u001b[0m\n\u001b[0;32m    460\u001b[0m \u001b[1;33m\u001b[0m\u001b[0m\n\u001b[0;32m    461\u001b[0m     \u001b[1;31m# Create the parser.\u001b[0m\u001b[1;33m\u001b[0m\u001b[1;33m\u001b[0m\u001b[1;33m\u001b[0m\u001b[0m\n\u001b[1;32m--> 462\u001b[1;33m     \u001b[0mparser\u001b[0m \u001b[1;33m=\u001b[0m \u001b[0mTextFileReader\u001b[0m\u001b[1;33m(\u001b[0m\u001b[0mfilepath_or_buffer\u001b[0m\u001b[1;33m,\u001b[0m \u001b[1;33m**\u001b[0m\u001b[0mkwds\u001b[0m\u001b[1;33m)\u001b[0m\u001b[1;33m\u001b[0m\u001b[1;33m\u001b[0m\u001b[0m\n\u001b[0m\u001b[0;32m    463\u001b[0m \u001b[1;33m\u001b[0m\u001b[0m\n\u001b[0;32m    464\u001b[0m     \u001b[1;32mif\u001b[0m \u001b[0mchunksize\u001b[0m \u001b[1;32mor\u001b[0m \u001b[0miterator\u001b[0m\u001b[1;33m:\u001b[0m\u001b[1;33m\u001b[0m\u001b[1;33m\u001b[0m\u001b[0m\n",
      "\u001b[1;32m~\\Anaconda3\\lib\\site-packages\\pandas\\io\\parsers.py\u001b[0m in \u001b[0;36m__init__\u001b[1;34m(self, f, engine, **kwds)\u001b[0m\n\u001b[0;32m    817\u001b[0m             \u001b[0mself\u001b[0m\u001b[1;33m.\u001b[0m\u001b[0moptions\u001b[0m\u001b[1;33m[\u001b[0m\u001b[1;34m\"has_index_names\"\u001b[0m\u001b[1;33m]\u001b[0m \u001b[1;33m=\u001b[0m \u001b[0mkwds\u001b[0m\u001b[1;33m[\u001b[0m\u001b[1;34m\"has_index_names\"\u001b[0m\u001b[1;33m]\u001b[0m\u001b[1;33m\u001b[0m\u001b[1;33m\u001b[0m\u001b[0m\n\u001b[0;32m    818\u001b[0m \u001b[1;33m\u001b[0m\u001b[0m\n\u001b[1;32m--> 819\u001b[1;33m         \u001b[0mself\u001b[0m\u001b[1;33m.\u001b[0m\u001b[0m_engine\u001b[0m \u001b[1;33m=\u001b[0m \u001b[0mself\u001b[0m\u001b[1;33m.\u001b[0m\u001b[0m_make_engine\u001b[0m\u001b[1;33m(\u001b[0m\u001b[0mself\u001b[0m\u001b[1;33m.\u001b[0m\u001b[0mengine\u001b[0m\u001b[1;33m)\u001b[0m\u001b[1;33m\u001b[0m\u001b[1;33m\u001b[0m\u001b[0m\n\u001b[0m\u001b[0;32m    820\u001b[0m \u001b[1;33m\u001b[0m\u001b[0m\n\u001b[0;32m    821\u001b[0m     \u001b[1;32mdef\u001b[0m \u001b[0mclose\u001b[0m\u001b[1;33m(\u001b[0m\u001b[0mself\u001b[0m\u001b[1;33m)\u001b[0m\u001b[1;33m:\u001b[0m\u001b[1;33m\u001b[0m\u001b[1;33m\u001b[0m\u001b[0m\n",
      "\u001b[1;32m~\\Anaconda3\\lib\\site-packages\\pandas\\io\\parsers.py\u001b[0m in \u001b[0;36m_make_engine\u001b[1;34m(self, engine)\u001b[0m\n\u001b[0;32m   1048\u001b[0m             )\n\u001b[0;32m   1049\u001b[0m         \u001b[1;31m# error: Too many arguments for \"ParserBase\"\u001b[0m\u001b[1;33m\u001b[0m\u001b[1;33m\u001b[0m\u001b[1;33m\u001b[0m\u001b[0m\n\u001b[1;32m-> 1050\u001b[1;33m         \u001b[1;32mreturn\u001b[0m \u001b[0mmapping\u001b[0m\u001b[1;33m[\u001b[0m\u001b[0mengine\u001b[0m\u001b[1;33m]\u001b[0m\u001b[1;33m(\u001b[0m\u001b[0mself\u001b[0m\u001b[1;33m.\u001b[0m\u001b[0mf\u001b[0m\u001b[1;33m,\u001b[0m \u001b[1;33m**\u001b[0m\u001b[0mself\u001b[0m\u001b[1;33m.\u001b[0m\u001b[0moptions\u001b[0m\u001b[1;33m)\u001b[0m  \u001b[1;31m# type: ignore[call-arg]\u001b[0m\u001b[1;33m\u001b[0m\u001b[1;33m\u001b[0m\u001b[0m\n\u001b[0m\u001b[0;32m   1051\u001b[0m \u001b[1;33m\u001b[0m\u001b[0m\n\u001b[0;32m   1052\u001b[0m     \u001b[1;32mdef\u001b[0m \u001b[0m_failover_to_python\u001b[0m\u001b[1;33m(\u001b[0m\u001b[0mself\u001b[0m\u001b[1;33m)\u001b[0m\u001b[1;33m:\u001b[0m\u001b[1;33m\u001b[0m\u001b[1;33m\u001b[0m\u001b[0m\n",
      "\u001b[1;32m~\\Anaconda3\\lib\\site-packages\\pandas\\io\\parsers.py\u001b[0m in \u001b[0;36m__init__\u001b[1;34m(self, src, **kwds)\u001b[0m\n\u001b[0;32m   1865\u001b[0m \u001b[1;33m\u001b[0m\u001b[0m\n\u001b[0;32m   1866\u001b[0m         \u001b[1;31m# open handles\u001b[0m\u001b[1;33m\u001b[0m\u001b[1;33m\u001b[0m\u001b[1;33m\u001b[0m\u001b[0m\n\u001b[1;32m-> 1867\u001b[1;33m         \u001b[0mself\u001b[0m\u001b[1;33m.\u001b[0m\u001b[0m_open_handles\u001b[0m\u001b[1;33m(\u001b[0m\u001b[0msrc\u001b[0m\u001b[1;33m,\u001b[0m \u001b[0mkwds\u001b[0m\u001b[1;33m)\u001b[0m\u001b[1;33m\u001b[0m\u001b[1;33m\u001b[0m\u001b[0m\n\u001b[0m\u001b[0;32m   1868\u001b[0m         \u001b[1;32massert\u001b[0m \u001b[0mself\u001b[0m\u001b[1;33m.\u001b[0m\u001b[0mhandles\u001b[0m \u001b[1;32mis\u001b[0m \u001b[1;32mnot\u001b[0m \u001b[1;32mNone\u001b[0m\u001b[1;33m\u001b[0m\u001b[1;33m\u001b[0m\u001b[0m\n\u001b[0;32m   1869\u001b[0m         \u001b[1;32mfor\u001b[0m \u001b[0mkey\u001b[0m \u001b[1;32min\u001b[0m \u001b[1;33m(\u001b[0m\u001b[1;34m\"storage_options\"\u001b[0m\u001b[1;33m,\u001b[0m \u001b[1;34m\"encoding\"\u001b[0m\u001b[1;33m,\u001b[0m \u001b[1;34m\"memory_map\"\u001b[0m\u001b[1;33m,\u001b[0m \u001b[1;34m\"compression\"\u001b[0m\u001b[1;33m)\u001b[0m\u001b[1;33m:\u001b[0m\u001b[1;33m\u001b[0m\u001b[1;33m\u001b[0m\u001b[0m\n",
      "\u001b[1;32m~\\Anaconda3\\lib\\site-packages\\pandas\\io\\parsers.py\u001b[0m in \u001b[0;36m_open_handles\u001b[1;34m(self, src, kwds)\u001b[0m\n\u001b[0;32m   1360\u001b[0m         \u001b[0mLet\u001b[0m \u001b[0mthe\u001b[0m \u001b[0mreaders\u001b[0m \u001b[0mopen\u001b[0m \u001b[0mIOHanldes\u001b[0m \u001b[0mafter\u001b[0m \u001b[0mthey\u001b[0m \u001b[0mare\u001b[0m \u001b[0mdone\u001b[0m \u001b[1;32mwith\u001b[0m \u001b[0mtheir\u001b[0m \u001b[0mpotential\u001b[0m \u001b[0mraises\u001b[0m\u001b[1;33m.\u001b[0m\u001b[1;33m\u001b[0m\u001b[1;33m\u001b[0m\u001b[0m\n\u001b[0;32m   1361\u001b[0m         \"\"\"\n\u001b[1;32m-> 1362\u001b[1;33m         self.handles = get_handle(\n\u001b[0m\u001b[0;32m   1363\u001b[0m             \u001b[0msrc\u001b[0m\u001b[1;33m,\u001b[0m\u001b[1;33m\u001b[0m\u001b[1;33m\u001b[0m\u001b[0m\n\u001b[0;32m   1364\u001b[0m             \u001b[1;34m\"r\"\u001b[0m\u001b[1;33m,\u001b[0m\u001b[1;33m\u001b[0m\u001b[1;33m\u001b[0m\u001b[0m\n",
      "\u001b[1;32m~\\Anaconda3\\lib\\site-packages\\pandas\\io\\common.py\u001b[0m in \u001b[0;36mget_handle\u001b[1;34m(path_or_buf, mode, encoding, compression, memory_map, is_text, errors, storage_options)\u001b[0m\n\u001b[0;32m    640\u001b[0m                 \u001b[0merrors\u001b[0m \u001b[1;33m=\u001b[0m \u001b[1;34m\"replace\"\u001b[0m\u001b[1;33m\u001b[0m\u001b[1;33m\u001b[0m\u001b[0m\n\u001b[0;32m    641\u001b[0m             \u001b[1;31m# Encoding\u001b[0m\u001b[1;33m\u001b[0m\u001b[1;33m\u001b[0m\u001b[1;33m\u001b[0m\u001b[0m\n\u001b[1;32m--> 642\u001b[1;33m             handle = open(\n\u001b[0m\u001b[0;32m    643\u001b[0m                 \u001b[0mhandle\u001b[0m\u001b[1;33m,\u001b[0m\u001b[1;33m\u001b[0m\u001b[1;33m\u001b[0m\u001b[0m\n\u001b[0;32m    644\u001b[0m                 \u001b[0mioargs\u001b[0m\u001b[1;33m.\u001b[0m\u001b[0mmode\u001b[0m\u001b[1;33m,\u001b[0m\u001b[1;33m\u001b[0m\u001b[1;33m\u001b[0m\u001b[0m\n",
      "\u001b[1;31mFileNotFoundError\u001b[0m: [Errno 2] No such file or directory: 'TrainingSetLabels.csv'"
     ]
    }
   ],
   "source": [
    "wp = pd.read_csv(\"TrainingSetValues.csv\") ##read in the data set\n",
    "ps = pd.read_csv(\"TrainingSetLabels.csv\") ##read in the data set"
   ]
  },
  {
   "cell_type": "markdown",
   "id": "414c9b5f",
   "metadata": {},
   "source": [
    "Read in the dataset and cleaning"
   ]
  },
  {
   "cell_type": "code",
   "execution_count": null,
   "id": "a337fe58",
   "metadata": {},
   "outputs": [],
   "source": [
    "waterPumps.head() ##reviewing the dataset"
   ]
  },
  {
   "cell_type": "code",
   "execution_count": null,
   "id": "81e2b762",
   "metadata": {},
   "outputs": [],
   "source": [
    "wp.info()"
   ]
  },
  {
   "cell_type": "code",
   "execution_count": null,
   "id": "30767fe2",
   "metadata": {},
   "outputs": [],
   "source": [
    "wp_num = wp.select_dtypes(np.number)\n",
    "wp_cat = wp.select_dtypes(np.object)"
   ]
  },
  {
   "cell_type": "code",
   "execution_count": null,
   "id": "ef31dec1",
   "metadata": {},
   "outputs": [],
   "source": [
    "wp_num.info()"
   ]
  },
  {
   "cell_type": "code",
   "execution_count": null,
   "id": "1d031867-b406-46fe-bf0f-96c694a76cd4",
   "metadata": {},
   "outputs": [],
   "source": []
  },
  {
   "cell_type": "code",
   "execution_count": null,
   "id": "3a1d36bf-cf14-4648-8f6f-7312f13edcd2",
   "metadata": {},
   "outputs": [],
   "source": [
    "wp_cat.info()"
   ]
  },
  {
   "cell_type": "markdown",
   "id": "d1411318",
   "metadata": {},
   "source": [
    "Merge the two data sets together"
   ]
  },
  {
   "cell_type": "code",
   "execution_count": null,
   "id": "a22f8a2d",
   "metadata": {},
   "outputs": [],
   "source": [
    "wps = pd.merge(wp, ps)"
   ]
  },
  {
   "cell_type": "code",
   "execution_count": null,
   "id": "5329a1ed",
   "metadata": {},
   "outputs": [],
   "source": [
    "wps.head()"
   ]
  },
  {
   "cell_type": "code",
   "execution_count": null,
   "id": "e71e63ce",
   "metadata": {},
   "outputs": [],
   "source": [
    "wps.info()"
   ]
  },
  {
   "cell_type": "code",
   "execution_count": null,
   "id": "c19ffa46-49d9-4afd-be55-2ab32e9f2c69",
   "metadata": {},
   "outputs": [],
   "source": [
    "cols=wps.select_dtypes(include='object').columns.to_list()\n",
    "wps[cols] = wps[cols].astype('category')"
   ]
  },
  {
   "cell_type": "code",
   "execution_count": null,
   "id": "487ae740-8fc4-4eec-9a44-c6aff52eb44a",
   "metadata": {},
   "outputs": [],
   "source": [
    "cols()"
   ]
  },
  {
   "cell_type": "code",
   "execution_count": null,
   "id": "e4ec66f9",
   "metadata": {},
   "outputs": [],
   "source": [
    "plt.figure(figsize = (8,6))\n",
    "sns.heatmap(wp_num.isnull(), cbar=False , cmap = 'magma')"
   ]
  },
  {
   "cell_type": "code",
   "execution_count": null,
   "id": "14205880-b00a-4181-9b7e-b4aeea5f94e0",
   "metadata": {},
   "outputs": [],
   "source": [
    "plt.figure(figsize = (8,6))\n",
    "sns.heatmap(wp_cat.isnull(), cbar=False , cmap = 'magma')"
   ]
  },
  {
   "cell_type": "code",
   "execution_count": null,
   "id": "6117259c-f493-4a7f-ace2-632ccd57fe1b",
   "metadata": {},
   "outputs": [],
   "source": [
    "plt.figure(figsize = (8,6))\n",
    "sns.heatmap(ps.isnull(), cbar=False , cmap = 'magma')"
   ]
  },
  {
   "cell_type": "code",
   "execution_count": null,
   "id": "cbc79607",
   "metadata": {},
   "outputs": [],
   "source": [
    "wp_cat.duplicated()"
   ]
  },
  {
   "cell_type": "code",
   "execution_count": null,
   "id": "92dd8b6f-2a91-41c7-842e-0a1760332a89",
   "metadata": {},
   "outputs": [],
   "source": []
  },
  {
   "cell_type": "code",
   "execution_count": null,
   "id": "3ab0d102",
   "metadata": {},
   "outputs": [],
   "source": [
    "wp_num.head()"
   ]
  },
  {
   "cell_type": "code",
   "execution_count": null,
   "id": "7a7a9ed0",
   "metadata": {},
   "outputs": [],
   "source": [
    "wps.info()"
   ]
  },
  {
   "cell_type": "code",
   "execution_count": null,
   "id": "3cf970f0",
   "metadata": {},
   "outputs": [],
   "source": [
    "wps['construction_year']=pd.to_datetime(wps['construction_year']) ##changes date recorded to data type date"
   ]
  },
  {
   "cell_type": "code",
   "execution_count": null,
   "id": "770aaa28",
   "metadata": {},
   "outputs": [],
   "source": [
    "wps.info()"
   ]
  },
  {
   "cell_type": "code",
   "execution_count": null,
   "id": "e0e57c9b-8dc9-4609-8c6b-aa6a3cafd8af",
   "metadata": {},
   "outputs": [],
   "source": [
    "wps['date_recorded']=pd.to_datetime(wps['date_recorded']) ##changes date recorded to data type date"
   ]
  },
  {
   "cell_type": "code",
   "execution_count": null,
   "id": "92110f7d-ee15-49a8-8f39-791f68cb4b7e",
   "metadata": {},
   "outputs": [],
   "source": [
    "wps.info()"
   ]
  },
  {
   "cell_type": "code",
   "execution_count": null,
   "id": "e0e3e392-dd99-4b43-9be5-28390142da8b",
   "metadata": {},
   "outputs": [],
   "source": [
    "wps.drop(['gps_height', 'longitude', 'latitude', 'num_private'],axis=1, inplace=True)"
   ]
  },
  {
   "cell_type": "code",
   "execution_count": null,
   "id": "0a70f5ad-c8d6-4b77-91c2-b64eaf39fd0b",
   "metadata": {},
   "outputs": [],
   "source": [
    "wps.describe()"
   ]
  },
  {
   "cell_type": "code",
   "execution_count": null,
   "id": "d31498bc",
   "metadata": {},
   "outputs": [],
   "source": [
    "predictiveInfo = wps.drop(columns=['id','num_private','gps_height','longitude','latitude','lga','ward'], axis=1) ##Drops num_private column since it holds no values"
   ]
  },
  {
   "cell_type": "code",
   "execution_count": null,
   "id": "4e127973",
   "metadata": {},
   "outputs": [],
   "source": [
    "predictiveInfo.info()"
   ]
  },
  {
   "cell_type": "code",
   "execution_count": null,
   "id": "51bf74b3",
   "metadata": {},
   "outputs": [],
   "source": [
    "corr = wps.corr()\n",
    "sns.heatmap(corr)"
   ]
  },
  {
   "cell_type": "code",
   "execution_count": null,
   "id": "13be9b49-4f63-4383-800f-d6780c83ec54",
   "metadata": {},
   "outputs": [],
   "source": [
    "plt.figure(figsize = (20, 10))\n",
    "sns.boxplot(data=wps)\n",
    "\n",
    "plt.xticks(rotation=-45)"
   ]
  },
  {
   "cell_type": "code",
   "execution_count": null,
   "id": "07b38e80-8f3e-4295-8eb2-e5ecc3935e41",
   "metadata": {},
   "outputs": [],
   "source": [
    "for status in wps.status_group.cat.categories:#successfully created an iterative loop\n",
    "    print(status) #print proof"
   ]
  },
  {
   "cell_type": "code",
   "execution_count": null,
   "id": "c83b91ee-55a5-499e-96d9-98d7334f5a6c",
   "metadata": {},
   "outputs": [],
   "source": [
    "wps.waterpoint_type.cat"
   ]
  },
  {
   "cell_type": "code",
   "execution_count": null,
   "id": "e4977e18-dcea-4fe3-a3e4-97ac1207a8ec",
   "metadata": {},
   "outputs": [],
   "source": [
    "sns.countplot(x= 'status_group', data=wps[-(wps.status_group == 'functional')])"
   ]
  },
  {
   "cell_type": "code",
   "execution_count": null,
   "id": "d2385714-89f3-4f6b-8384-e203dc672c00",
   "metadata": {},
   "outputs": [],
   "source": [
    "chart = sns.countplot(x= 'water_quality', data=wps[-(wps.water_quality == 'soft')])\n",
    "plt.xticks(rotation=-45)\n"
   ]
  },
  {
   "cell_type": "code",
   "execution_count": null,
   "id": "bf42e16c-7eb2-4153-930f-15da755d7691",
   "metadata": {},
   "outputs": [],
   "source": [
    "##drop water quality soft"
   ]
  },
  {
   "cell_type": "code",
   "execution_count": null,
   "id": "8b4c9612-15c6-4c9a-8570-14011f76ac64",
   "metadata": {},
   "outputs": [],
   "source": [
    "k1 = sns.lineplot(wps.construction_year, wps.population)\n"
   ]
  },
  {
   "cell_type": "code",
   "execution_count": null,
   "id": "f9fc8e9b-ebec-43d3-bbb6-18fd33f499e1",
   "metadata": {},
   "outputs": [],
   "source": []
  },
  {
   "cell_type": "code",
   "execution_count": null,
   "id": "9d49e374-5e88-4e7a-872b-d865cb96c515",
   "metadata": {},
   "outputs": [],
   "source": []
  },
  {
   "cell_type": "code",
   "execution_count": null,
   "id": "3e433368-ddcc-45e0-976a-b97763e29c77",
   "metadata": {},
   "outputs": [],
   "source": [
    "k1 = sns.heatmap(wps[usecols].corr(), square=True, cmap=\"Blues\", linecolor='w',annot=True, annot_kws={\"size\":8}, mask=maske, cbar_kws={\"shrink\":.9})\n"
   ]
  },
  {
   "cell_type": "code",
   "execution_count": null,
   "id": "039b0d96-c825-4e4f-97d4-7bc833354481",
   "metadata": {},
   "outputs": [],
   "source": [
    "k1 = sns.lineplot(wps.water_quality, wps.status_group)\n",
    "plt.xticks(rotation=45)"
   ]
  },
  {
   "cell_type": "code",
   "execution_count": null,
   "id": "980d53ca-43cd-45db-ad1a-60f4712666c7",
   "metadata": {},
   "outputs": [],
   "source": [
    "sns.FacetGrid(wps, hue = 'status_group', size = 5).map(plt.scatter, 'water_quality', 'construction_year').add_legend() \n",
    "plt.title(\"Scatterplot with Seaborn\", fontsize=15)\n",
    "plt.xticks(rotation=45)"
   ]
  },
  {
   "cell_type": "code",
   "execution_count": null,
   "id": "e2a0b7c9-db7c-48df-991f-68dd704a5e62",
   "metadata": {},
   "outputs": [],
   "source": [
    "corr = wps.corr()\n",
    "sns.heatmap(corr)"
   ]
  },
  {
   "cell_type": "code",
   "execution_count": null,
   "id": "89f1b8c3-ab1e-4453-8ec2-866599fb7022",
   "metadata": {},
   "outputs": [],
   "source": [
    "sns.distplot('construction_year', bins=15)"
   ]
  },
  {
   "cell_type": "code",
   "execution_count": null,
   "id": "414ec2c8-4d13-47d9-a92c-64058432777e",
   "metadata": {},
   "outputs": [],
   "source": []
  }
 ],
 "metadata": {
  "kernelspec": {
   "display_name": "py3.7env",
   "language": "python",
   "name": "py3.7env"
  },
  "language_info": {
   "codemirror_mode": {
    "name": "ipython",
    "version": 3
   },
   "file_extension": ".py",
   "mimetype": "text/x-python",
   "name": "python",
   "nbconvert_exporter": "python",
   "pygments_lexer": "ipython3",
   "version": "3.8.8"
  }
 },
 "nbformat": 4,
 "nbformat_minor": 5
}
