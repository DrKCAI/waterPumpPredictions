{
 "cells": [
  {
   "cell_type": "code",
   "execution_count": null,
   "id": "3f2a5227-3367-428c-aa4b-16a8b746d9a8",
   "metadata": {},
   "outputs": [],
   "source": [
    "import pandas as pd ##essential to reading databases\n",
    "import numpy as np ##essential for machine learning\n",
    "import os ##essential for operating system functions\n",
    "from matplotlib import pyplot as plt ##Math and plotting functionality\n",
    "import seaborn as sb ##some of the best visualizations between R and Python\n",
    "%matplotlib inline\n",
    "import warnings     ##imports \n",
    "warnings.filterwarnings('ignore')"
   ]
  },
  {
   "cell_type": "code",
   "execution_count": null,
   "id": "f7fed84c-317c-4ef0-97e2-c6f030cbb044",
   "metadata": {},
   "outputs": [],
   "source": [
    "os.getcwd() ##whereamI in python speak"
   ]
  },
  {
   "cell_type": "code",
   "execution_count": null,
   "id": "29351623-c75a-4149-aca2-504e1e2a89a3",
   "metadata": {},
   "outputs": [],
   "source": [
    "conda list"
   ]
  },
  {
   "cell_type": "code",
   "execution_count": null,
   "id": "f07f61c6-1bea-4aed-8276-3d5fdd9a2776",
   "metadata": {},
   "outputs": [],
   "source": [
    "waterPumps = pd.read_csv(\"TrainingSetValues.csv\") ##read in the data set\n",
    "pumpStatus = pd.read_csv(\"TrainingSetLabels.csv\") ##read in the data set"
   ]
  },
  {
   "cell_type": "code",
   "execution_count": null,
   "id": "853fc353-b28b-4a0f-9aec-23319a2297c6",
   "metadata": {},
   "outputs": [],
   "source": [
    "waterPumps.head() ##reviewing the dataset"
   ]
  },
  {
   "cell_type": "code",
   "execution_count": null,
   "id": "3a5e0352-5af3-4647-9bb0-f227194030f8",
   "metadata": {},
   "outputs": [],
   "source": [
    "pumpStatus.head()"
   ]
  },
  {
   "cell_type": "code",
   "execution_count": null,
   "id": "38a741ee-ff4e-4808-b4ac-deb2de3de869",
   "metadata": {},
   "outputs": [],
   "source": [
    "waterPumpStatus = pd.merge(waterPumps, pumpStatus)"
   ]
  },
  {
   "cell_type": "code",
   "execution_count": null,
   "id": "95bdbd65-e049-4960-a4ad-b754bec9aacb",
   "metadata": {},
   "outputs": [],
   "source": [
    "waterPumpStatus.head()"
   ]
  },
  {
   "cell_type": "code",
   "execution_count": null,
   "id": "8d89011c-8870-4e62-9ed6-ae8a03f9c2ac",
   "metadata": {},
   "outputs": [],
   "source": [
    "waterPumpStatus.info() ## Checking that databases merged properly and checking object type in columns"
   ]
  },
  {
   "cell_type": "code",
   "execution_count": null,
   "id": "75b2c198-dfad-49f4-9934-0c2b63451ded",
   "metadata": {},
   "outputs": [],
   "source": [
    "plt.figure(figsize = (8,6))\n",
    "sb.heatmap(waterPumpStatus.isnull(), cbar=False , cmap = 'magma')"
   ]
  },
  {
   "cell_type": "code",
   "execution_count": null,
   "id": "5d31bb96-98f1-4d0d-8a22-66d8f9400ca4",
   "metadata": {},
   "outputs": [],
   "source": [
    "waterPumpStatus.duplicated(\"id\") ##Checking for Duplicates"
   ]
  },
  {
   "cell_type": "code",
   "execution_count": null,
   "id": "d616139e-9549-4b2a-8355-952ad210ad10",
   "metadata": {},
   "outputs": [],
   "source": [
    "waterPumpStatus['date_recorded']=pd.to_datetime(waterPumpStatus['date_recorded']) ##changes date recorded to data type date\n",
    "waterPumpStatus['construction_year']=pd.to_datetime(waterPumpStatus['construction_year']) ##changes date recorded to data type date"
   ]
  },
  {
   "cell_type": "code",
   "execution_count": null,
   "id": "c11648d0-ab75-4ded-8aca-4f43dccc2990",
   "metadata": {},
   "outputs": [],
   "source": [
    "waterPumpStatus.drop(columns = 'num_private') ##Drops num_private column since it holds no values"
   ]
  },
  {
   "cell_type": "markdown",
   "id": "7aace0e0",
   "metadata": {},
   "source": [
    "# Data Transformation"
   ]
  },
  {
   "cell_type": "code",
   "execution_count": null,
   "id": "32390e4f-df83-4f75-87fd-4bb4dd138403",
   "metadata": {},
   "outputs": [],
   "source": [
    "wps['water_quality']=pd.Categorical(wps['water_quality']) ##changing Payment to catagorical data\n",
    "wps['quality_group']=pd.Categorical(wps['quality_group'])##changing Payment to catagorical data\n",
    "wps['quantity']=pd.Categorical(wps['quantity']) ##changing Payment to catagorical data\n",
    "wps['quantity_group']=pd.Categorical(wps['quantity_group'])##changing Payment to catagorical data\n",
    "wps['source']=pd.Categorical(wps['source']) ##changing Payment to catagorical data\n",
    "wps['source_type']=pd.Categorical(wps['source_type'])##changing Payment to catagorical data\n",
    "wps['source_class']=pd.Categorical(wps['source_class']) ##changing Payment to catagorical data\n",
    "wps['status_group']=pd.Categorical(wps['status_group'])##changing Payment to catagorical data\n",
    "wps['waterpoint_type']=pd.Categorical(wps['waterpoint_type']) ##changing Payment to catagorical data\n",
    "wps['waterpoint_type_group']=pd.Categorical(wps['waterpoint_type_group']) ##changing Payment to catagorical data"
   ]
  },
  {
   "cell_type": "code",
   "execution_count": null,
   "id": "99aa152f-de93-454d-8be3-3f0d14e6b8fc",
   "metadata": {},
   "outputs": [],
   "source": []
  },
  {
   "cell_type": "code",
   "execution_count": null,
   "id": "4156100b",
   "metadata": {},
   "outputs": [],
   "source": []
  },
  {
   "cell_type": "code",
   "execution_count": null,
   "id": "463f4e51",
   "metadata": {},
   "outputs": [],
   "source": []
  },
  {
   "cell_type": "code",
   "execution_count": null,
   "id": "4fd061d9",
   "metadata": {},
   "outputs": [],
   "source": []
  }
 ],
 "metadata": {
  "kernelspec": {
   "display_name": "py3.7env",
   "language": "python",
   "name": "py3.7env"
  },
  "language_info": {
   "codemirror_mode": {
    "name": "ipython",
    "version": 3
   },
   "file_extension": ".py",
   "mimetype": "text/x-python",
   "name": "python",
   "nbconvert_exporter": "python",
   "pygments_lexer": "ipython3",
   "version": "3.8.8"
  }
 },
 "nbformat": 4,
 "nbformat_minor": 5
}
